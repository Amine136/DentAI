{
 "cells": [
  {
   "cell_type": "code",
   "execution_count": 1,
   "id": "d692b2e8",
   "metadata": {},
   "outputs": [],
   "source": [
    "import numpy as np\n",
    "import pandas as pd\n",
    "from sklearn.preprocessing import LabelEncoder\n",
    "import warnings\n",
    "import matplotlib.pyplot as plt\n",
    "warnings.filterwarnings('ignore')"
   ]
  },
  {
   "cell_type": "code",
   "execution_count": 2,
   "id": "c52b9424",
   "metadata": {},
   "outputs": [],
   "source": [
    "df = pd.read_excel('IEEE compétition.xlsx')"
   ]
  },
  {
   "cell_type": "code",
   "execution_count": 3,
   "id": "1abae8bb",
   "metadata": {},
   "outputs": [],
   "source": [
    "#Data Cleaning\n",
    "def Cleaning(df):\n",
    "    \n",
    "    df = df.drop(columns=\" numero patient\")\n",
    "    df = df.drop(columns=\"sexe\")\n",
    "    df[\"Mobilité\"] = df[\"Mobilité\"].astype(str)\n",
    "    df = df[df['age  patient '] <= 100]\n",
    "    df = df.drop(columns=\"age  patient \")\n",
    "    df = df.applymap(lambda x: x.strip().lower() if isinstance(x, str) else x)\n",
    "    y = df['Les Urgences En MED DENT']\n",
    "    x = df.drop(columns='Les Urgences En MED DENT')\n",
    "   \n",
    "    x['Douleur Spontanée'] = x['Douleur Spontanée'].replace({'oui irradiante vers l\\'oreil': 'irradiante',\n",
    "                                                             'occassionnellement': 'occasionnelle'})\n",
    "\n",
    "    # Douleur Provoquée\n",
    "    x['Douleur Provoquée'] = x['Douleur Provoquée'].replace('parfois a la mastication','au contact')\n",
    "    x['Douleur Provoquée'] = x['Douleur Provoquée'].replace( 'mastication','au contact')\n",
    "\n",
    "    # Col \"\" Mobilité \"\"\n",
    "    x['Mobilité'] = x['Mobilité'].replace('1', 'one')\n",
    "    x['Mobilité'] = x['Mobilité'].replace('1+', 'one_plus')\n",
    "\n",
    "    # Col \"\" Vitalité \"\"\n",
    "    x['Vitalité'] = x['Vitalité'].replace('vivante', 'dent vivante')\n",
    "    x['Vitalité'] = x['Vitalité'].replace('oui', 'dent vivante')\n",
    "\n",
    "    # Col \"\" Palpation Apicale \"\"\n",
    "    x['Palpation Apicale'] = x['Palpation Apicale'].replace('négatif','non')\n",
    "    x['Palpation Apicale'] = x['Palpation Apicale'].replace('negatif','non')\n",
    "\n",
    "    # Col \"\" 'Médication ATG \"\"\n",
    "    x['Médication ATG'] = x['Médication ATG'].replace('non', 'non efficace')\n",
    "    x['Médication ATG'] = x['Médication ATG'].replace('oui', 'efficace')\n",
    "\n",
    "    # Douleur Spontanée\n",
    "    x['Soulager '] = x['Soulager '].replace('eviter la mastication','sans contact')\n",
    "    x['Soulager '] = x['Soulager '].replace('parfois par le froid','froid')\n",
    "\n",
    "    # Col \"\" 'Odeur Fétide \"\"\n",
    "    x['Médication ATG'] = x['Médication ATG'].replace('odeur fétide', 'oui')\n",
    "   \n",
    "    return x,y"
   ]
  },
  {
   "cell_type": "code",
   "execution_count": 4,
   "id": "03b3962d",
   "metadata": {},
   "outputs": [],
   "source": [
    "x,y = Cleaning(df)"
   ]
  },
  {
   "cell_type": "code",
   "execution_count": 5,
   "id": "e7f4fe41",
   "metadata": {
    "scrolled": true
   },
   "outputs": [],
   "source": [
    "from sklearn.model_selection import train_test_split\n",
    "from sklearn.preprocessing import StandardScaler\n",
    "x_train, x_test, y_train, y_test = train_test_split(x, y, random_state=34,test_size=0.2)"
   ]
  },
  {
   "cell_type": "code",
   "execution_count": 6,
   "id": "d5cca97c",
   "metadata": {},
   "outputs": [],
   "source": [
    "categorical = x\n",
    "categorical_columns = categorical.columns\n",
    "num=0\n",
    "hist = []\n",
    "for col in (categorical_columns):\n",
    "    le = \"le\"+str(num)\n",
    "    le= LabelEncoder()\n",
    "    x_train[col] =le.fit_transform(x_train[col])\n",
    "    #Test\n",
    "    x_test[col] = le.transform(x_test[col])\n",
    "    num+=1\n",
    "    hist.append(le)\n",
    "scaler = StandardScaler()\n",
    "scaler.fit(x_train)\n",
    "x_train = scaler.transform(x_train)\n",
    "#Test\n",
    "x_test = scaler.transform(x_test)"
   ]
  },
  {
   "cell_type": "code",
   "execution_count": 7,
   "id": "c4faf5c4",
   "metadata": {},
   "outputs": [],
   "source": [
    "from sklearn.tree import DecisionTreeClassifier\n",
    "from sklearn.linear_model import LogisticRegression\n",
    "from sklearn.naive_bayes import GaussianNB\n",
    "from sklearn.ensemble import VotingClassifier"
   ]
  },
  {
   "cell_type": "code",
   "execution_count": 8,
   "id": "b6d127d4",
   "metadata": {},
   "outputs": [
    {
     "name": "stdout",
     "output_type": "stream",
     "text": [
      "score de validation de la model Decision Tree est 100.00%\n",
      "score de la model Decision Tree est 100.00%\n"
     ]
    }
   ],
   "source": [
    "TreeModel = DecisionTreeClassifier()\n",
    "TreeModel.fit(x_train, y_train)\n",
    "scTV = TreeModel.score(x_train, y_train)*100\n",
    "print('score de validation de la model Decision Tree est %.2f%%' %scTV)\n",
    "scT = TreeModel.score(x_test, y_test)*100\n",
    "print('score de la model Decision Tree est %.2f%%' %scT)"
   ]
  },
  {
   "cell_type": "code",
   "execution_count": 9,
   "id": "9a0643e8",
   "metadata": {},
   "outputs": [
    {
     "name": "stdout",
     "output_type": "stream",
     "text": [
      "score de validation de la model Logistic Regression est 100.00%\n",
      "score de la model Logistic Regression est 100.00%\n"
     ]
    }
   ],
   "source": [
    "LogisticModel = LogisticRegression()\n",
    "LogisticModel.fit(x_train, y_train)\n",
    "scL = LogisticModel.score(x_train, y_train)*100\n",
    "print('score de validation de la model Logistic Regression est %.2f%%' %scL)\n",
    "scL = LogisticModel.score(x_test, y_test)*100\n",
    "print('score de la model Logistic Regression est %.2f%%' %scL)"
   ]
  },
  {
   "cell_type": "code",
   "execution_count": 10,
   "id": "88686656",
   "metadata": {},
   "outputs": [
    {
     "name": "stdout",
     "output_type": "stream",
     "text": [
      "score de la model GaussianNB est 100.00%\n"
     ]
    }
   ],
   "source": [
    "nb = GaussianNB()\n",
    "nb.fit(x_train, y_train)\n",
    "scNB = nb.score(x_test, y_test)*100\n",
    "print('score de la model GaussianNB est %.2f%%' %scNB)"
   ]
  },
  {
   "cell_type": "code",
   "execution_count": 11,
   "id": "10c81974",
   "metadata": {},
   "outputs": [
    {
     "name": "stdout",
     "output_type": "stream",
     "text": [
      "Score du classifieur de vote majoritaire : 100.00\n"
     ]
    }
   ],
   "source": [
    "voting_clf = VotingClassifier(estimators=[('lr', TreeModel), ('nb', LogisticModel), ('dt', nb)], voting='hard')\n",
    "voting_clf.fit(x_train, y_train)\n",
    "sM = voting_clf.score(x_test, y_test)*100\n",
    "print(f\"Score du classifieur de vote majoritaire : {sM:.2f}\")"
   ]
  },
  {
   "cell_type": "code",
   "execution_count": 12,
   "id": "0bd54a75",
   "metadata": {},
   "outputs": [],
   "source": [
    "def preprocessing(x):\n",
    "    categorical = x\n",
    "    categorical_columns = categorical.columns\n",
    "    num=0\n",
    "    for col in (categorical_columns):\n",
    "        le = hist[num]\n",
    "        x[col] = le.transform(x[col])\n",
    "        num+=1\n",
    "    x = scaler.transform(x)\n",
    "    return x"
   ]
  },
  {
   "cell_type": "code",
   "execution_count": 13,
   "id": "1e913d60",
   "metadata": {},
   "outputs": [],
   "source": [
    "def pred(data_test):\n",
    "    x_ , y_ = Cleaning(data_test)\n",
    "    x_ = preprocessing(x_)\n",
    "    return voting_clf.predict(x_)"
   ]
  },
  {
   "cell_type": "markdown",
   "id": "e9692fbb",
   "metadata": {},
   "source": [
    " Enregistrer les paramètres et utiliser ultérieurement pour la prédiction"
   ]
  },
  {
   "cell_type": "code",
   "execution_count": 14,
   "id": "4683177b",
   "metadata": {},
   "outputs": [],
   "source": [
    "import pickle"
   ]
  },
  {
   "cell_type": "code",
   "execution_count": 15,
   "id": "e4f46a55",
   "metadata": {},
   "outputs": [],
   "source": [
    "\n",
    "with open('modele.pkl', 'wb') as f:\n",
    "    pickle.dump(voting_clf.predict, f)"
   ]
  },
  {
   "cell_type": "code",
   "execution_count": 16,
   "id": "d0c7e6cb",
   "metadata": {},
   "outputs": [],
   "source": [
    "with open('hist.pkl', 'wb') as f:\n",
    "    pickle.dump(hist, f)"
   ]
  },
  {
   "cell_type": "code",
   "execution_count": 17,
   "id": "71ce8b24",
   "metadata": {},
   "outputs": [],
   "source": [
    "with open('scaler.pkl', 'wb') as f:\n",
    "    pickle.dump(scaler, f)"
   ]
  }
 ],
 "metadata": {
  "kernelspec": {
   "display_name": "Python 3 (ipykernel)",
   "language": "python",
   "name": "python3"
  },
  "language_info": {
   "codemirror_mode": {
    "name": "ipython",
    "version": 3
   },
   "file_extension": ".py",
   "mimetype": "text/x-python",
   "name": "python",
   "nbconvert_exporter": "python",
   "pygments_lexer": "ipython3",
   "version": "3.9.13"
  }
 },
 "nbformat": 4,
 "nbformat_minor": 5
}
